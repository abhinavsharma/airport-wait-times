{
 "cells": [
  {
   "cell_type": "markdown",
   "metadata": {},
   "source": [
    "# US Airport Passport Control Wait Times\n",
    "\n",
    "https://github.com/abhinavsharma/airport-wait-times"
   ]
  },
  {
   "cell_type": "code",
   "execution_count": 4,
   "metadata": {},
   "outputs": [],
   "source": [
    "from bs4 import BeautifulSoup\n",
    "import matplotlib.pyplot as plt\n",
    "import seaborn as sns\n",
    "import nbinteract as nbi\n",
    "import pandas as pd\n",
    "from functools import lru_cache\n",
    "import requests\n",
    "import numpy as np\n",
    "import datetime"
   ]
  },
  {
   "cell_type": "code",
   "execution_count": 5,
   "metadata": {},
   "outputs": [],
   "source": [
    "@lru_cache(maxsize=128)\n",
    "def get_airport_info(airport_code, fromDate, toDate):\n",
    "\n",
    "    # get data from CPB website\n",
    "    url = \"https://awt.cbp.gov\"\n",
    "    data = {\n",
    "        \"port\": airport_code,\n",
    "        \"rptFrom\": fromDate,\n",
    "        \"rptTo\": toDate\n",
    "    }\n",
    "    res = requests.post(url, data)\n",
    "\n",
    "    # parse html for table and load into a pandas dataframe\n",
    "    soup = BeautifulSoup(res.content)\n",
    "    table = soup.find_all('table')[0] \n",
    "    dfs = pd.read_html(str(table))\n",
    "    df = dfs[0]\n",
    "\n",
    "    # flatten column names from tuples to strings\n",
    "    df.columns = [' '.join(list(dict.fromkeys(col))).strip() for col in df.columns.values]\n",
    "\n",
    "    # create a time series index field\n",
    "    l = [d.split('--')[0] + ' ' + d.split('--')[1].split('-')[0][:2] for d in df['Date'] + '--' + df['Hour']]\n",
    "    df['ts'] = pd.to_datetime(pd.Series(l), format=\"%m/%d/%Y %H\")\n",
    "    df = df.set_index('ts')\n",
    "\n",
    "    # aggregate data by hour of day\n",
    "    df_hour_of_day_mean = df.groupby(df.index.hour).mean()\n",
    "    return df_hour_of_day_mean\n"
   ]
  },
  {
   "cell_type": "code",
   "execution_count": 6,
   "metadata": {},
   "outputs": [],
   "source": [
    "def get_last_months_from_to_dates():\n",
    "    today = datetime.date.today()\n",
    "    first = today.replace(day=1)\n",
    "    lastMonthLastDay = first - datetime.timedelta(days=1)\n",
    "    toDate = lastMonthLastDay.strftime('%m/%d/%Y')\n",
    "    lastMonthFirstDay = lastMonthLastDay.replace(day=1)\n",
    "    fromDate = lastMonthFirstDay.strftime('%m/%d/%Y')\n",
    "    return (fromDate, toDate)"
   ]
  },
  {
   "cell_type": "code",
   "execution_count": null,
   "metadata": {},
   "outputs": [],
   "source": [
    "# sample data\n",
    "(fromDate, toDate) = get_last_months_from_to_dates()\n",
    "df = get_airport_info('SFO', fromDate, toDate)\n",
    "df.head()"
   ]
  },
  {
   "cell_type": "code",
   "execution_count": null,
   "metadata": {},
   "outputs": [],
   "source": [
    "codes = [\"GUM\", \"ATL\", \"AUS\", \"BWI\", \"BOS\", \"CLT\", \"MDW\", \"ORD\", \"CVG\", \"DFW\", \"DEN\", \"DTW\", \"FLL\", \"FAT\", \"HNL\", \"IAH\", \"SNA\", \"ONT\", \"STL\", \"LAX\", \"SJU\", \"LAS\", \"OAK\", \"MIA\", \"MSP\", \"JFK\", \"EWR\", \"SJC\", \"MCO\", \"SFB\", \"PBI\", \"PHL\", \"PHX\", \"PDX\", \"RDU\", \"SMF\", \"SPN\", \"SLC\", \"SAT\", \"SAN\", \"SFO\", \"SEA\", \"TPA\", \"IAD\"]\n",
    "attrs = list(df.columns)"
   ]
  },
  {
   "cell_type": "code",
   "execution_count": null,
   "metadata": {},
   "outputs": [],
   "source": [
    "def y_f(xs, airport_code, statistic):\n",
    "    (fromDate, toDate) = get_last_months_from_to_dates()\n",
    "    df = get_airport_info(airport_code, fromDate, toDate)\n",
    "    d = df[statistic].to_dict()\n",
    "    squarer = lambda h: d[h] if h in d else 0\n",
    "    vfunc = np.vectorize(squarer)\n",
    "    return vfunc(xs)\n",
    "    \n",
    "def x_f():\n",
    "    return np.arange(24)\n",
    "\n",
    "opts = {\n",
    "    'title': 'x: Hour of day, y: Mean value for last month',\n",
    "}\n",
    "\n",
    "nbi.bar(x_f, y_f, statistic=attrs,airport_code=codes, options=opts)"
   ]
  }
 ],
 "metadata": {
  "kernelspec": {
   "display_name": "Python 3",
   "language": "python",
   "name": "python3"
  },
  "language_info": {
   "codemirror_mode": {
    "name": "ipython",
    "version": 3
   },
   "file_extension": ".py",
   "mimetype": "text/x-python",
   "name": "python",
   "nbconvert_exporter": "python",
   "pygments_lexer": "ipython3",
   "version": "3.7.4"
  }
 },
 "nbformat": 4,
 "nbformat_minor": 2
}
