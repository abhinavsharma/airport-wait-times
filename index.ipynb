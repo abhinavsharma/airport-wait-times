{
 "cells": [
  {
   "cell_type": "code",
   "execution_count": 1,
   "metadata": {},
   "outputs": [],
   "source": [
    "from ipywidgets import interact"
   ]
  },
  {
   "cell_type": "code",
   "execution_count": 23,
   "metadata": {},
   "outputs": [],
   "source": [
    "from bs4 import BeautifulSoup\n",
    "import matplotlib.pyplot as plt\n",
    "import seaborn as sns\n",
    "import nbinteract as nbi\n",
    "import pandas as pd\n",
    "from functools import lru_cache\n",
    "import requests"
   ]
  },
  {
   "cell_type": "code",
   "execution_count": 26,
   "metadata": {},
   "outputs": [],
   "source": [
    "@lru_cache(maxsize=128)\n",
    "def get_airport_info(code):\n",
    "    import requests\n",
    "    \n",
    "    import datetime\n",
    "    today = datetime.date.today()\n",
    "    first = today.replace(day=1)\n",
    "    lastMonthLastDay = first - datetime.timedelta(days=1)\n",
    "    toDate = lastMonthLastDay.strftime('%m/%d/%Y')\n",
    "    lastMonthFirstDay = lastMonthLastDay.replace(day=1)\n",
    "    fromDate = lastMonthFirstDay.strftime('%m/%d/%Y')\n",
    "    \n",
    "    url = \"https://awt.cbp.gov\"\n",
    "    data = {\n",
    "        \"port\": code,\n",
    "        \"rptFrom\": fromDate,\n",
    "        \"rptTo\": toDate\n",
    "    }\n",
    "\n",
    "    res = requests.post(url, data)\n",
    "    soup = BeautifulSoup(res.content)\n",
    "    table = soup.find_all('table')[0] \n",
    "    dfs = pd.read_html(str(table))\n",
    "    df = dfs[0]\n",
    "    df.columns = [' '.join(list(dict.fromkeys(col))).strip() for col in df.columns.values]\n",
    "    # most of our analysis will be around day of\n",
    "    \n",
    "    # convert date and hour to a time datatype\n",
    "    l = [d.split('--')[0] + ' ' + d.split('--')[1].split('-')[0][:2] for d in df['Date'] + '--' + df['Hour']]\n",
    "    df['ts'] = pd.to_datetime(pd.Series(l), format=\"%m/%d/%Y %H\")\n",
    "    df = df.set_index('ts')\n",
    "    df_hour_of_day_mean = df.groupby(df.index.hour).mean()\n",
    "    return df_hour_of_day_mean"
   ]
  },
  {
   "cell_type": "code",
   "execution_count": 28,
   "metadata": {},
   "outputs": [
    {
     "name": "stderr",
     "output_type": "stream",
     "text": [
      "WARNING:root:The following options are not supported by this function and will likely result in undefined behavior: ['xlim'].\n"
     ]
    },
    {
     "data": {
      "application/vnd.jupyter.widget-view+json": {
       "model_id": "5c435275b98c4b4ea2cb03e8c85cb548",
       "version_major": 2,
       "version_minor": 0
      },
      "text/plain": [
       "VBox(children=(interactive(children=(Dropdown(description='code', options=('SFO', 'JFK'), value='SFO'), Output…"
      ]
     },
     "metadata": {},
     "output_type": "display_data"
    }
   ],
   "source": [
    "def y_f(xs, code):\n",
    "    df = get_airport_info(code)\n",
    "    return df['U.S. Citizen Max Wait  Time']\n",
    "    \n",
    "def x_f():\n",
    "    return range(0,24)\n",
    "\n",
    "opts = {\n",
    "    'xlim': (0, 15),\n",
    "}\n",
    "\n",
    "nbi.bar(x_f, y_f, code=['SFO', 'JFK'], options=opts)"
   ]
  },
  {
   "cell_type": "code",
   "execution_count": 29,
   "metadata": {},
   "outputs": [],
   "source": [
    "import lxml"
   ]
  },
  {
   "cell_type": "code",
   "execution_count": null,
   "metadata": {},
   "outputs": [],
   "source": []
  }
 ],
 "metadata": {
  "kernelspec": {
   "display_name": "Python 3",
   "language": "python",
   "name": "python3"
  },
  "language_info": {
   "codemirror_mode": {
    "name": "ipython",
    "version": 3
   },
   "file_extension": ".py",
   "mimetype": "text/x-python",
   "name": "python",
   "nbconvert_exporter": "python",
   "pygments_lexer": "ipython3",
   "version": "3.7.4"
  }
 },
 "nbformat": 4,
 "nbformat_minor": 2
}
